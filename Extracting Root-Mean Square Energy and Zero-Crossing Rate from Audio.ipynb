{
 "cells": [
  {
   "cell_type": "markdown",
   "id": "f4d490e9",
   "metadata": {},
   "source": [
    "### Loading important libraries"
   ]
  },
  {
   "cell_type": "code",
   "execution_count": null,
   "id": "7f2a573a",
   "metadata": {},
   "outputs": [],
   "source": [
    "import librosa\n",
    "import IPython.display as ipd\n",
    "import matplotlib.pyplot as plt\n",
    "import numpy as np"
   ]
  },
  {
   "cell_type": "markdown",
   "id": "df9af2e5",
   "metadata": {},
   "source": [
    "### load audio files "
   ]
  },
  {
   "cell_type": "code",
   "execution_count": null,
   "id": "fd2e57ff",
   "metadata": {},
   "outputs": [],
   "source": [
    "\n",
    "sazzy_file = \"sazzy.wav\"\n",
    "dance_file = \"dance.wav\"\n",
    "\n",
    "\n"
   ]
  },
  {
   "cell_type": "code",
   "execution_count": null,
   "id": "8e10a59f",
   "metadata": {},
   "outputs": [],
   "source": [
    "ipd.Audio(sazzy_file)"
   ]
  },
  {
   "cell_type": "code",
   "execution_count": null,
   "id": "453cf518",
   "metadata": {},
   "outputs": [],
   "source": [
    "ipd.Audio(dance_file)"
   ]
  },
  {
   "cell_type": "code",
   "execution_count": null,
   "id": "898f083a",
   "metadata": {},
   "outputs": [],
   "source": [
    "# Loading Audio files with librosa\n",
    "dance, sr = librosa.load(dance_file,)\n",
    "sazzy , _ = librosa.load(sazzy_file)"
   ]
  },
  {
   "cell_type": "markdown",
   "id": "aa7a29ae",
   "metadata": {},
   "source": [
    "### Root-Mean-Squared energy with librosa"
   ]
  },
  {
   "cell_type": "code",
   "execution_count": null,
   "id": "235479ee",
   "metadata": {},
   "outputs": [],
   "source": [
    "\n",
    "\n",
    "FRAME_LENGTH = 1024\n",
    "HOP_LENGTH = 512\n",
    "\n",
    "rms_dance = librosa.feature.rms(y=dance,frame_length = FRAME_LENGTH,hop_length = HOP_LENGTH)[0]\n",
    "rms_sazzy = librosa.feature.rms(y=sazzy,frame_length = FRAME_LENGTH,hop_length = HOP_LENGTH)[0]"
   ]
  },
  {
   "cell_type": "markdown",
   "id": "a8648bd8",
   "metadata": {},
   "source": [
    "### Visualizing RMSe & Waveform"
   ]
  },
  {
   "cell_type": "code",
   "execution_count": null,
   "id": "2e955af3",
   "metadata": {},
   "outputs": [],
   "source": [
    "frames_dance = range(len(rms_dance))\n",
    "t_dance = librosa.frames_to_time(frames_dance,hop_length=HOP_LENGTH)\n",
    "\n",
    "frames_sazzy = range(len(rms_sazzy))\n",
    "t_sazzy = librosa.frames_to_time(frames_sazzy,hop_length=HOP_LENGTH)\n"
   ]
  },
  {
   "cell_type": "code",
   "execution_count": null,
   "id": "ac580ad8",
   "metadata": {},
   "outputs": [],
   "source": [
    "# Plot the rsme for all the music pieces\n",
    "\n",
    "plt.figure(figsize=(15,17))\n",
    "\n",
    "ax = plt.subplot(2,1,1)\n",
    "librosa.display.waveshow(dance,alpha = 0.5)\n",
    "plt.plot(t_dance,rms_dance,color=\"r\")\n",
    "plt.ylim((-1,1))\n",
    "plt.title(\"Dance\")\n",
    "\n",
    "plt.subplot(2,1,2)\n",
    "librosa.display.waveshow(sazzy,alpha = 0.5)\n",
    "plt.plot(t_sazzy,rms_sazzy,color=\"r\")\n",
    "plt.ylim((-1,1))\n",
    "plt.title(\"Sazzy\")\n",
    "\n",
    "plt.show()"
   ]
  },
  {
   "cell_type": "markdown",
   "id": "114f56a3",
   "metadata": {},
   "source": [
    "### Extracting RMSE from scratch\n"
   ]
  },
  {
   "cell_type": "code",
   "execution_count": null,
   "id": "776fee27",
   "metadata": {},
   "outputs": [],
   "source": [
    "\n",
    "def rms(signal, frame_length, hop_length):\n",
    "    rms = []\n",
    "    for i in range(0,len(signal),hop_length):\n",
    "        rms_current_frame = np.sqrt(np.sum(signal[i:i+frame_length]**2) / frame_length)\n",
    "        rms.append(rms_current_frame)\n",
    "        \n",
    "    return np.array(rms)\n",
    "    \n",
    "    "
   ]
  },
  {
   "cell_type": "code",
   "execution_count": null,
   "id": "95658669",
   "metadata": {},
   "outputs": [],
   "source": [
    "rms1_dance = rms(dance,frame_length = FRAME_LENGTH,hop_length = HOP_LENGTH)\n",
    "rms1_sazzy = rms(sazzy,frame_length = FRAME_LENGTH,hop_length = HOP_LENGTH)"
   ]
  },
  {
   "cell_type": "code",
   "execution_count": null,
   "id": "3120dc58",
   "metadata": {},
   "outputs": [],
   "source": [
    "\n",
    "plt.figure(figsize=(15,17))\n",
    "\n",
    "ax = plt.subplot(2,1,1)\n",
    "librosa.display.waveshow(dance,alpha = 0.5)\n",
    "plt.plot(t_dance,rms_dance,color=\"r\")\n",
    "plt.plot(t_dance, rms1_dance,color=\"y\")\n",
    "plt.ylim((-1,1))\n",
    "plt.title(\"Dance\")\n",
    "\n",
    "plt.subplot(2,1,2)\n",
    "librosa.display.waveshow(sazzy,alpha = 0.5)\n",
    "plt.plot(t_sazzy,rms_sazzy,color=\"r\")\n",
    "plt.plot(t_sazzy, rms1_sazzy,color=\"y\")\n",
    "plt.ylim((-1,1))\n",
    "plt.title(\"Sazzy\")\n",
    "\n",
    "plt.show()"
   ]
  },
  {
   "cell_type": "markdown",
   "id": "9436f225",
   "metadata": {},
   "source": [
    "### Zero-Crossing-Rate with librosa"
   ]
  },
  {
   "cell_type": "code",
   "execution_count": null,
   "id": "eb4a58df",
   "metadata": {},
   "outputs": [],
   "source": [
    "zcr_dance = librosa.feature.zero_crossing_rate(y=dance,frame_length = FRAME_LENGTH,hop_length = HOP_LENGTH)[0]\n",
    "zcr_sazzy = librosa.feature.zero_crossing_rate(y=sazzy,frame_length = FRAME_LENGTH,hop_length = HOP_LENGTH)[0]"
   ]
  },
  {
   "cell_type": "markdown",
   "id": "dff35ae8",
   "metadata": {},
   "source": [
    "### Visualization of the ZCR with librosa"
   ]
  },
  {
   "cell_type": "code",
   "execution_count": null,
   "id": "9aa8de57",
   "metadata": {},
   "outputs": [],
   "source": [
    "\n",
    "\n",
    "plt.figure(figsize=(15,17))\n",
    "plt.plot(t_dance,zcr_dance * FRAME_LENGTH,color=\"r\")\n",
    "plt.plot(t_sazzy,zcr_sazzy * FRAME_LENGTH,color=\"g\")\n",
    "plt.ylim((0,700))\n",
    "plt.show()"
   ]
  },
  {
   "cell_type": "markdown",
   "id": "8dfd41c8",
   "metadata": {},
   "source": [
    "### ZCR: Audio Vs Noise"
   ]
  },
  {
   "cell_type": "code",
   "execution_count": null,
   "id": "553522bc",
   "metadata": {},
   "outputs": [],
   "source": [
    "\n",
    "\n",
    "voice_file = \"voice.wav\"\n",
    "noise_file = \"noise.wav\""
   ]
  },
  {
   "cell_type": "code",
   "execution_count": null,
   "id": "cdadc34c",
   "metadata": {},
   "outputs": [],
   "source": [
    "voice, _ = librosa.load(voice_file,duration = 15)\n",
    "noise, _ = librosa.load(noise_file, duration = 15)"
   ]
  },
  {
   "cell_type": "code",
   "execution_count": null,
   "id": "a78f9b49",
   "metadata": {},
   "outputs": [],
   "source": [
    "ipd.Audio(voice_file)"
   ]
  },
  {
   "cell_type": "code",
   "execution_count": null,
   "id": "82a89e7c",
   "metadata": {},
   "outputs": [],
   "source": [
    "ipd.Audio(noise_file)"
   ]
  },
  {
   "cell_type": "code",
   "execution_count": null,
   "id": "8e3603ed",
   "metadata": {},
   "outputs": [],
   "source": [
    "zcr_voice = librosa.feature.zero_crossing_rate(y=voice,frame_length= FRAME_LENGTH, hop_length = HOP_LENGTH)[0]\n",
    "zcr_noise = librosa.feature.zero_crossing_rate(y=noise,frame_length= FRAME_LENGTH, hop_length = HOP_LENGTH)[0]\n"
   ]
  },
  {
   "cell_type": "code",
   "execution_count": null,
   "id": "caa8aa9e",
   "metadata": {},
   "outputs": [],
   "source": [
    "frames = range(len(zcr_voice))\n",
    "t = librosa.frames_to_time(frames, hop_length=HOP_LENGTH)\n"
   ]
  },
  {
   "cell_type": "code",
   "execution_count": null,
   "id": "f020f204",
   "metadata": {
    "scrolled": true
   },
   "outputs": [],
   "source": [
    "\n",
    "plt.figure(figsize=(15,17))\n",
    "plt.plot(t,zcr_voice* FRAME_LENGTH ,color=\"r\")\n",
    "plt.plot(t,zcr_noise * FRAME_LENGTH,color=\"g\")\n",
    "plt.ylim((0,500))\n",
    "plt.show()"
   ]
  },
  {
   "cell_type": "code",
   "execution_count": null,
   "id": "42caa02e",
   "metadata": {},
   "outputs": [],
   "source": []
  }
 ],
 "metadata": {
  "kernelspec": {
   "display_name": "Python 3 (ipykernel)",
   "language": "python",
   "name": "python3"
  },
  "language_info": {
   "codemirror_mode": {
    "name": "ipython",
    "version": 3
   },
   "file_extension": ".py",
   "mimetype": "text/x-python",
   "name": "python",
   "nbconvert_exporter": "python",
   "pygments_lexer": "ipython3",
   "version": "3.9.12"
  }
 },
 "nbformat": 4,
 "nbformat_minor": 5
}
